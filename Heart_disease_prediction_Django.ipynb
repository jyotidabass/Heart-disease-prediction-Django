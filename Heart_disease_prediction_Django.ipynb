{
  "nbformat": 4,
  "nbformat_minor": 0,
  "metadata": {
    "colab": {
      "name": "Heart disease prediction-Django.ipynb",
      "provenance": [],
      "authorship_tag": "ABX9TyNXkr/tY+CSIddOGuNlP2tB",
      "include_colab_link": true
    },
    "kernelspec": {
      "name": "python3",
      "display_name": "Python 3"
    },
    "language_info": {
      "name": "python"
    }
  },
  "cells": [
    {
      "cell_type": "markdown",
      "metadata": {
        "id": "view-in-github",
        "colab_type": "text"
      },
      "source": [
        "<a href=\"https://colab.research.google.com/github/jyotidabass/Heart-disease-prediction-Django/blob/main/Heart_disease_prediction_Django.ipynb\" target=\"_parent\"><img src=\"https://colab.research.google.com/assets/colab-badge.svg\" alt=\"Open In Colab\"/></a>"
      ]
    },
    {
      "cell_type": "code",
      "execution_count": 2,
      "metadata": {
        "colab": {
          "base_uri": "https://localhost:8080/"
        },
        "id": "uClwfnsQBgQc",
        "outputId": "06d7c952-c064-4216-c796-67282c5b003d"
      },
      "outputs": [
        {
          "output_type": "stream",
          "name": "stdout",
          "text": [
            "Enter Patient_ID: 23\n",
            "Enter Patient_Age: 23\n",
            "Enter Patient_Gender: 1\n",
            "Enter Patient_Blood_Pressure: 130\n",
            "Enter Patient_Heartrate: 112\n",
            "['No-Disease']\n"
          ]
        },
        {
          "output_type": "stream",
          "name": "stderr",
          "text": [
            "/usr/local/lib/python3.7/dist-packages/sklearn/base.py:451: UserWarning: X does not have valid feature names, but RandomForestClassifier was fitted with feature names\n",
            "  \"X does not have valid feature names, but\"\n"
          ]
        }
      ],
      "source": [
        "# Load modules\n",
        "from pandas import read_csv\n",
        "from sklearn.model_selection import train_test_split\n",
        "from sklearn.ensemble import RandomForestClassifier\n",
        "import pandas as pd\n",
        "\n",
        "# Load dataset\n",
        "df = pd.read_csv(r\"/content/sample_data/dataset.csv\")\n",
        "\n",
        "# Split into training data and test data\n",
        "X = df[['Patient_ID','Patient_Age','Patient_Gender','Patient_Blood_Pressure','Patient_Heartrate']]\n",
        "y = df['Heart_Disease']\n",
        "\n",
        "# Create training and testing vars, It’s usually around 80/20 or 70/30.\n",
        "X_train, X_test, Y_train, Y_test = train_test_split(X, y, test_size=0.20, random_state=1)\n",
        "\n",
        "# Now we’ll fit the model on the training data\n",
        "model = RandomForestClassifier()\n",
        "model.fit(X_train, Y_train)\n",
        "\n",
        "# Make predictions on validation dataset\n",
        "predictions = model.predict(X_test)\n",
        "\n",
        "\n",
        "# Pickle model\n",
        "pd.to_pickle(model,r'new_model.pickle')\n",
        "\n",
        "# Unpickle model\n",
        "model = pd.read_pickle(r'new_model.pickle')\n",
        "\n",
        "# Take input from user\n",
        "Patient_ID = int(input(\"Enter Patient_ID: \"))\n",
        "Patient_Age = int(input(\"Enter Patient_Age: \"))\n",
        "Patient_Gender = int(input(\"Enter Patient_Gender: \"))\n",
        "Patient_Blood_Pressure = int(input(\"Enter Patient_Blood_Pressure: \"))\n",
        "Patient_Heartrate = int(input(\"Enter Patient_Heartrate: \"))\n",
        "\n",
        "result = model.predict([[Patient_ID,Patient_Age,Patient_Gender,Patient_Blood_Pressure,Patient_Heartrate]])  # input must be 2D array\n",
        "print(result)"
      ]
    }
  ]
}